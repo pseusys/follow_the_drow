{
 "cells": [
  {
   "cell_type": "code",
   "execution_count": 1,
   "metadata": {},
   "outputs": [],
   "source": [
    "from data_outrigger.datasets import DROW_Dataset"
   ]
  },
  {
   "cell_type": "code",
   "execution_count": 2,
   "metadata": {},
   "outputs": [
    {
     "name": "stdout",
     "output_type": "stream",
     "text": [
      "Scans from test/*.csv loaded!\n",
      "Detections from test/*.[wc|wa|wp] loaded!\n",
      "Detections from test/*.odom2 loaded!\n",
      "Dataset includes 5 scans and 5 detections\n"
     ]
    }
   ],
   "source": [
    "te = DROW_Dataset()\n",
    "print(f\"Dataset includes {len(te.scan_id)} scans and {len(te.det_id)} detections\")"
   ]
  },
  {
   "cell_type": "code",
   "execution_count": 3,
   "metadata": {},
   "outputs": [
    {
     "name": "stdout",
     "output_type": "stream",
     "text": [
      "<cpp_binding.DetectorFactory bound to 'Stateless'>\n",
      "start!!\n",
      "bottom!!\n",
      "top!!\n",
      "detect!!\n",
      "raw!!\n"
     ]
    },
    {
     "data": {
      "text/plain": [
       "array([[-0.33699726, -0.82373104],\n",
       "       [-0.32609054, -0.8173524 ],\n",
       "       [-0.31894547, -0.82016692],\n",
       "       ...,\n",
       "       [ 1.03102848,  2.34319866],\n",
       "       [ 1.01843607,  2.37048256],\n",
       "       [ 1.00544537,  2.39772373]])"
      ]
     },
     "execution_count": 3,
     "metadata": {},
     "output_type": "execute_result"
    }
   ],
   "source": [
    "from data_outrigger.utils.drow_utils import laser_minimum, laser_increment\n",
    "from data_outrigger.cpp_binding import DetectorFactory, DetectorType\n",
    "\n",
    "\n",
    "detector = DetectorFactory(DetectorType.Stateless, laser_minimum, laser_increment)\n",
    "print(detector)\n",
    "detector.forward(te.scans[0], te.scans[1])"
   ]
  }
 ],
 "metadata": {
  "kernelspec": {
   "display_name": "venv",
   "language": "python",
   "name": "python3"
  },
  "language_info": {
   "codemirror_mode": {
    "name": "ipython",
    "version": 3
   },
   "file_extension": ".py",
   "mimetype": "text/x-python",
   "name": "python",
   "nbconvert_exporter": "python",
   "pygments_lexer": "ipython3",
   "version": "3.10.6"
  },
  "orig_nbformat": 4
 },
 "nbformat": 4,
 "nbformat_minor": 2
}
