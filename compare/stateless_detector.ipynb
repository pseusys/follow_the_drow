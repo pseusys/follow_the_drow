{
 "cells": [
  {
   "cell_type": "code",
   "execution_count": null,
   "metadata": {},
   "outputs": [],
   "source": [
    "from data_outrigger.datasets import DROW_Dataset"
   ]
  },
  {
   "cell_type": "code",
   "execution_count": null,
   "metadata": {},
   "outputs": [],
   "source": [
    "te = DROW_Dataset()\n",
    "print(f\"Dataset includes {len(te.scan_id)} scans and {len(te.det_id)} detections\")"
   ]
  },
  {
   "cell_type": "code",
   "execution_count": null,
   "metadata": {},
   "outputs": [],
   "source": [
    "from data_outrigger.utils.drow_utils import laser_minimum, laser_increment\n",
    "from data_outrigger.cpp_binding import DetectorFactory, DetectorType\n",
    "\n",
    "\n",
    "detector = DetectorFactory(DetectorType.Stateless, laser_minimum, laser_increment)\n",
    "print(detector)\n",
    "detector.forward(te.scans[0], te.scans[1])"
   ]
  }
 ],
 "metadata": {
  "kernelspec": {
   "display_name": "venv",
   "language": "python",
   "name": "python3"
  },
  "language_info": {
   "codemirror_mode": {
    "name": "ipython",
    "version": 3
   },
   "file_extension": ".py",
   "mimetype": "text/x-python",
   "name": "python",
   "nbconvert_exporter": "python",
   "pygments_lexer": "ipython3",
   "version": "3.10.6"
  },
  "orig_nbformat": 4
 },
 "nbformat": 4,
 "nbformat_minor": 2
}
