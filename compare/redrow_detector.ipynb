{
 "cells": [
  {
   "cell_type": "markdown",
   "metadata": {},
   "source": [
    "# Introduction"
   ]
  },
  {
   "cell_type": "markdown",
   "metadata": {},
   "source": [
    "This notebook was used in order to create the **\"DROW3x + validation\" curve in Figure 4**.\n",
    "\n",
    "Note that a lot of code is copy-pasted across notebooks, so you may find some functionality implemented here that is not used, for instance the network is implemented in a way to support late-fusion, which is not used."
   ]
  },
  {
   "cell_type": "code",
   "execution_count": 1,
   "metadata": {
    "ExecuteTime": {
     "end_time": "2018-03-15T20:28:28.983990Z",
     "start_time": "2018-03-15T20:28:28.665594Z"
    }
   },
   "outputs": [],
   "source": [
    "from data_outrigger.datasets import Dataset\n",
    "from data_outrigger.detectors import DrowDetector\n",
    "from data_outrigger.utils.file_utils import file_cache_function, DROW_WEIGHTS_PATH\n",
    "from data_outrigger.utils.drow_utils import linearize, comp_prec_rec_softmax\n",
    "from data_outrigger.utils.plot_utils import plot_prec_rec"
   ]
  },
  {
   "cell_type": "code",
   "execution_count": 2,
   "metadata": {
    "ExecuteTime": {
     "end_time": "2018-03-15T20:28:29.245430Z",
     "start_time": "2018-03-15T20:28:28.985256Z"
    }
   },
   "outputs": [],
   "source": [
    "%matplotlib inline\n",
    "%config InlineBackend.figure_format = \"retina\"\n",
    "\n",
    "# Font which got unicode math stuff.\n",
    "import matplotlib\n",
    "matplotlib.rcParams[\"font.family\"] = \"DejaVu Sans\"\n",
    "\n",
    "# Much more readable plots\n",
    "import matplotlib.pyplot as plt\n",
    "plt.style.use(\"ggplot\")\n",
    "\n",
    "# https://github.com/ipython/ipython/issues/7270#issuecomment-355276432\n",
    "matplotlib.interactive(False)"
   ]
  },
  {
   "cell_type": "markdown",
   "metadata": {},
   "source": [
    "# Data loading"
   ]
  },
  {
   "cell_type": "markdown",
   "metadata": {},
   "source": [
    "**CAREFUL**: `scan` goes right-to-left, i.e. first array value corresponds to \"rightmost\" laser point. Positive angle is left, negative angle right."
   ]
  },
  {
   "cell_type": "code",
   "execution_count": 3,
   "metadata": {
    "ExecuteTime": {
     "end_time": "2018-03-15T20:28:32.245615Z",
     "start_time": "2018-03-15T20:28:32.239521Z"
    }
   },
   "outputs": [
    {
     "name": "stdout",
     "output_type": "stream",
     "text": [
      "Scans from /home/pseusys/Documents/repositories/follow_the_drow/library/data_outrigger/include/DROWv2-data/test/*.csv loaded!\n",
      "Detections from /home/pseusys/Documents/repositories/follow_the_drow/library/data_outrigger/include/DROWv2-data/test/*.[wc|wa|wp] loaded!\n",
      "Detections from /home/pseusys/Documents/repositories/follow_the_drow/library/data_outrigger/include/DROWv2-data/test/*.odom2 loaded!\n",
      "Dataset includes 5 scans and 5 detections\n"
     ]
    }
   ],
   "source": [
    "te = Dataset()\n",
    "print(f\"Dataset includes {len(te.scan_id)} scans and {len(te.det_id)} detections\")"
   ]
  },
  {
   "cell_type": "markdown",
   "metadata": {},
   "source": [
    "# Model definition"
   ]
  },
  {
   "cell_type": "code",
   "execution_count": 4,
   "metadata": {
    "ExecuteTime": {
     "end_time": "2018-03-15T20:38:27.426774Z",
     "start_time": "2018-03-15T20:37:45.012161Z"
    }
   },
   "outputs": [
    {
     "name": "stdout",
     "output_type": "stream",
     "text": [
      "Loaded weights from /home/pseusys/Documents/repositories/follow_the_drow/library/data_outrigger/include/weights.pth.tar\n",
      "Number of weights of the detector: 1518918\n"
     ]
    }
   ],
   "source": [
    "net = DrowDetector.init()\n",
    "print(f\"Number of weights of the detector: {net.parameters_number}\")"
   ]
  },
  {
   "cell_type": "markdown",
   "metadata": {},
   "source": [
    "## On Test"
   ]
  },
  {
   "cell_type": "code",
   "execution_count": 5,
   "metadata": {},
   "outputs": [],
   "source": [
    "result_conf = {\n",
    "    \"blur_sigma\": 2.23409276092903,\n",
    "    \"blur_win\": 11,\n",
    "    \"bin_size\": 0.04566379529562327,\n",
    "    \"vote_collect_radius\": 0.6351825665330302,\n",
    "    \"min_thresh\": 0.0027015322261551397,\n",
    "    \"class_weights\": [0.89740097838073, 0.3280190481521334, 0.4575675717820713]\n",
    "}\n",
    "\n",
    "\n",
    "def process_test_set():\n",
    "    # TODO: think about it\n",
    "    seqs, scans, wcs, was, wps = linearize(te.scan_id, te.scans, te.det_id, te.det_wc, te.det_wa, te.det_wp)\n",
    "    confs, offs = net.forward_all(te)\n",
    "    return seqs, scans, wcs, was, wps, confs, offs\n",
    "\n",
    "\n",
    "def create_results(scans, wcs, was, wps, confs, offs, kw):\n",
    "    return comp_prec_rec_softmax(scans, wcs, was, wps, confs, offs, **kw)"
   ]
  },
  {
   "cell_type": "markdown",
   "metadata": {},
   "source": [
    "### Figure 4, line \"DROW3x + validation\" "
   ]
  },
  {
   "cell_type": "code",
   "execution_count": 6,
   "metadata": {
    "ExecuteTime": {
     "end_time": "2018-03-15T20:42:29.437269Z",
     "start_time": "2018-03-15T20:42:11.463071Z"
    }
   },
   "outputs": [
    {
     "data": {
      "application/vnd.jupyter.widget-view+json": {
       "model_id": "b4b9a3eaea7d48be923fbe2b5d3da423",
       "version_major": 2,
       "version_minor": 0
      },
      "text/plain": [
       " sequence:   0%|          | 0/5 [00:00<?, ?it/s]"
      ]
     },
     "metadata": {},
     "output_type": "display_data"
    },
    {
     "data": {
      "application/vnd.jupyter.widget-view+json": {
       "model_id": "3650282876b0480d8f9678fbe45178ff",
       "version_major": 2,
       "version_minor": 0
      },
      "text/plain": [
       " scan:   0%|          | 0/340 [00:00<?, ?it/s]"
      ]
     },
     "metadata": {},
     "output_type": "display_data"
    }
   ],
   "source": [
    "with file_cache_function(\"cache/test_data_raw.pkl\", process_test_set) as (args, recalc):\n",
    "    with file_cache_function(\"cache/test_data_normal.pkl\", create_results, *args[1:], result_conf, force=recalc) as (results, _):\n",
    "        fig, _ = plot_prec_rec(*results, title=\"DROW (TEST)\")\n",
    "        plt.close(fig)\n",
    "\n",
    "fig"
   ]
  },
  {
   "cell_type": "markdown",
   "metadata": {},
   "source": [
    "### Smaller evaluation radius (Figure 4, dotted line)"
   ]
  },
  {
   "cell_type": "code",
   "execution_count": null,
   "metadata": {
    "ExecuteTime": {
     "end_time": "2018-03-15T20:42:47.260875Z",
     "start_time": "2018-03-15T20:42:29.968409Z"
    }
   },
   "outputs": [],
   "source": [
    "with file_cache_function(\"cache/test_data_raw.pkl\", process_test_set) as (args, recalc):\n",
    "    conf = {**result_conf, \"eval_r\": 0.3}\n",
    "    with file_cache_function(\"cache/test_data_small.pkl\", create_results, *args[1:], conf, force=recalc) as (results, _):\n",
    "        fig, _ = plot_prec_rec(*results, title=\"DROW small (TEST)\")\n",
    "        plt.close(fig)\n",
    "\n",
    "fig"
   ]
  }
 ],
 "metadata": {
  "kernelspec": {
   "display_name": "Python 3",
   "language": "python",
   "name": "python3"
  },
  "language_info": {
   "codemirror_mode": {
    "name": "ipython",
    "version": 3
   },
   "file_extension": ".py",
   "mimetype": "text/x-python",
   "name": "python",
   "nbconvert_exporter": "python",
   "pygments_lexer": "ipython3",
   "version": "3.10.6"
  }
 },
 "nbformat": 4,
 "nbformat_minor": 2
}
