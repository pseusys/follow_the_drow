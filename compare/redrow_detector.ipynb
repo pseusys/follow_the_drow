{
 "cells": [
  {
   "cell_type": "markdown",
   "metadata": {},
   "source": [
    "# Introduction"
   ]
  },
  {
   "cell_type": "markdown",
   "metadata": {},
   "source": [
    "This notebook was used in order to create the **\"DROW3x + validation\" curve in Figure 4**.\n",
    "\n",
    "Note that a lot of code is copy-pasted across notebooks, so you may find some functionality implemented here that is not used, for instance the network is implemented in a way to support late-fusion, which is not used."
   ]
  },
  {
   "cell_type": "code",
   "execution_count": null,
   "metadata": {
    "ExecuteTime": {
     "end_time": "2018-03-15T20:28:28.983990Z",
     "start_time": "2018-03-15T20:28:28.665594Z"
    }
   },
   "outputs": [],
   "source": [
    "from data_outrigger.datasets import Dataset\n",
    "from data_outrigger.detectors import DrowDetector\n",
    "from data_outrigger.utils.file_utils import file_cache_function\n",
    "from data_outrigger.utils.drow_utils import linearize, comp_prec_rec_softmax\n",
    "from data_outrigger.utils.plot_utils import plot_prec_rec"
   ]
  },
  {
   "cell_type": "code",
   "execution_count": null,
   "metadata": {
    "ExecuteTime": {
     "end_time": "2018-03-15T20:28:29.245430Z",
     "start_time": "2018-03-15T20:28:28.985256Z"
    }
   },
   "outputs": [],
   "source": [
    "%matplotlib inline\n",
    "%config InlineBackend.figure_format = \"retina\"\n",
    "\n",
    "# Font which got unicode math stuff.\n",
    "import matplotlib\n",
    "matplotlib.rcParams[\"font.family\"] = \"DejaVu Sans\"\n",
    "\n",
    "# Much more readable plots\n",
    "import matplotlib.pyplot as plt\n",
    "plt.style.use(\"ggplot\")\n",
    "\n",
    "# https://github.com/ipython/ipython/issues/7270#issuecomment-355276432\n",
    "matplotlib.interactive(False)"
   ]
  },
  {
   "cell_type": "markdown",
   "metadata": {},
   "source": [
    "# Data loading"
   ]
  },
  {
   "cell_type": "markdown",
   "metadata": {},
   "source": [
    "**CAREFUL**: `scan` goes right-to-left, i.e. first array value corresponds to \"rightmost\" laser point. Positive angle is left, negative angle right."
   ]
  },
  {
   "cell_type": "code",
   "execution_count": null,
   "metadata": {
    "ExecuteTime": {
     "end_time": "2018-03-15T20:28:32.245615Z",
     "start_time": "2018-03-15T20:28:32.239521Z"
    }
   },
   "outputs": [],
   "source": [
    "te = Dataset()\n",
    "print(f\"Dataset includes {len(te.scan_id)} scans and {len(te.det_id)} detections\")"
   ]
  },
  {
   "cell_type": "code",
   "execution_count": null,
   "metadata": {},
   "outputs": [],
   "source": [
    "from data_outrigger.utils.drow_utils import laser_minimum, laser_increment\n",
    "from data_outrigger.cpp_binding import DetectorFactory, DetectorType\n",
    "\n",
    "\n",
    "detector = DetectorFactory(DetectorType.Stateless, laser_minimum, laser_increment)\n",
    "print(detector)\n",
    "print(detector.forward(te.scans[0], te.scans[1]))"
   ]
  },
  {
   "cell_type": "markdown",
   "metadata": {},
   "source": [
    "# Model definition"
   ]
  },
  {
   "cell_type": "code",
   "execution_count": null,
   "metadata": {
    "ExecuteTime": {
     "end_time": "2018-03-15T20:38:27.426774Z",
     "start_time": "2018-03-15T20:37:45.012161Z"
    }
   },
   "outputs": [],
   "source": [
    "net = DrowDetector.init()\n",
    "print(f\"Number of weights of the detector: {net.parameters_number}\")"
   ]
  },
  {
   "cell_type": "markdown",
   "metadata": {},
   "source": [
    "## On Test"
   ]
  },
  {
   "cell_type": "code",
   "execution_count": null,
   "metadata": {},
   "outputs": [],
   "source": [
    "result_conf = {\n",
    "    \"blur_sigma\": 2.23409276092903,\n",
    "    \"blur_win\": 11,\n",
    "    \"bin_size\": 0.04566379529562327,\n",
    "    \"vote_collect_radius\": 0.6351825665330302,\n",
    "    \"min_thresh\": 0.0027015322261551397,\n",
    "    \"class_weights\": [0.89740097838073, 0.3280190481521334, 0.4575675717820713]\n",
    "}\n",
    "\n",
    "\n",
    "def process_test_set():\n",
    "    # TODO: think about it\n",
    "    seqs, scans, wcs, was, wps = linearize(te.scan_id, te.scans, te.det_id, te.det_wc, te.det_wa, te.det_wp)\n",
    "    confs, offs = net.forward_all(te)\n",
    "    return seqs, scans, wcs, was, wps, confs, offs\n",
    "\n",
    "\n",
    "def create_results(scans, wcs, was, wps, confs, offs, kw):\n",
    "    return comp_prec_rec_softmax(scans, wcs, was, wps, confs, offs, **kw)"
   ]
  },
  {
   "cell_type": "markdown",
   "metadata": {},
   "source": [
    "### Figure 4, line \"DROW3x + validation\" "
   ]
  },
  {
   "cell_type": "code",
   "execution_count": 8,
   "metadata": {
    "ExecuteTime": {
     "end_time": "2018-03-15T20:42:29.437269Z",
     "start_time": "2018-03-15T20:42:11.463071Z"
    }
   },
   "outputs": [
    {
     "ename": "KeyboardInterrupt",
     "evalue": "",
     "output_type": "error",
     "traceback": [
      "\u001b[0;31m---------------------------------------------------------------------------\u001b[0m",
      "\u001b[0;31mKeyboardInterrupt\u001b[0m                         Traceback (most recent call last)",
      "Cell \u001b[0;32mIn[8], line 1\u001b[0m\n\u001b[0;32m----> 1\u001b[0m \u001b[39mwith\u001b[39;00m file_cache_function(\u001b[39m\"\u001b[39m\u001b[39mtest_data_raw.pkl\u001b[39m\u001b[39m\"\u001b[39m, process_test_set) \u001b[39mas\u001b[39;00m (args, recalc):\n\u001b[1;32m      2\u001b[0m     \u001b[39mwith\u001b[39;00m file_cache_function(\u001b[39m\"\u001b[39m\u001b[39mtest_data_normal.pkl\u001b[39m\u001b[39m\"\u001b[39m, create_results, \u001b[39m*\u001b[39margs[\u001b[39m1\u001b[39m:], result_conf, force\u001b[39m=\u001b[39mrecalc) \u001b[39mas\u001b[39;00m (results, _):\n\u001b[1;32m      3\u001b[0m         fig, _ \u001b[39m=\u001b[39m plot_prec_rec(\u001b[39m*\u001b[39mresults, title\u001b[39m=\u001b[39m\u001b[39m\"\u001b[39m\u001b[39mDROW (TEST)\u001b[39m\u001b[39m\"\u001b[39m)\n",
      "File \u001b[0;32m/usr/lib/python3.10/contextlib.py:135\u001b[0m, in \u001b[0;36m_GeneratorContextManager.__enter__\u001b[0;34m(self)\u001b[0m\n\u001b[1;32m    133\u001b[0m \u001b[39mdel\u001b[39;00m \u001b[39mself\u001b[39m\u001b[39m.\u001b[39margs, \u001b[39mself\u001b[39m\u001b[39m.\u001b[39mkwds, \u001b[39mself\u001b[39m\u001b[39m.\u001b[39mfunc\n\u001b[1;32m    134\u001b[0m \u001b[39mtry\u001b[39;00m:\n\u001b[0;32m--> 135\u001b[0m     \u001b[39mreturn\u001b[39;00m \u001b[39mnext\u001b[39;49m(\u001b[39mself\u001b[39;49m\u001b[39m.\u001b[39;49mgen)\n\u001b[1;32m    136\u001b[0m \u001b[39mexcept\u001b[39;00m \u001b[39mStopIteration\u001b[39;00m:\n\u001b[1;32m    137\u001b[0m     \u001b[39mraise\u001b[39;00m \u001b[39mRuntimeError\u001b[39;00m(\u001b[39m\"\u001b[39m\u001b[39mgenerator didn\u001b[39m\u001b[39m'\u001b[39m\u001b[39mt yield\u001b[39m\u001b[39m\"\u001b[39m) \u001b[39mfrom\u001b[39;00m \u001b[39mNone\u001b[39;00m\n",
      "File \u001b[0;32m~/Documents/repositories/follow_the_drow/library/data_outrigger/utils/file_utils.py:23\u001b[0m, in \u001b[0;36mfile_cache_function\u001b[0;34m(file, function, path, force, *arguments)\u001b[0m\n\u001b[1;32m     21\u001b[0m makedirs(cache_file\u001b[39m.\u001b[39mparent, exist_ok\u001b[39m=\u001b[39m\u001b[39mTrue\u001b[39;00m)\n\u001b[1;32m     22\u001b[0m \u001b[39mif\u001b[39;00m \u001b[39mnot\u001b[39;00m cache_file\u001b[39m.\u001b[39mexists() \u001b[39mor\u001b[39;00m force:\n\u001b[0;32m---> 23\u001b[0m     result \u001b[39m=\u001b[39m function(\u001b[39m*\u001b[39;49marguments)\n\u001b[1;32m     24\u001b[0m     cache_file\u001b[39m.\u001b[39mwrite_bytes(dumps(result))\n\u001b[1;32m     25\u001b[0m     \u001b[39myield\u001b[39;00m result, \u001b[39mTrue\u001b[39;00m\n",
      "Cell \u001b[0;32mIn[7], line 14\u001b[0m, in \u001b[0;36mprocess_test_set\u001b[0;34m()\u001b[0m\n\u001b[1;32m     11\u001b[0m \u001b[39mdef\u001b[39;00m \u001b[39mprocess_test_set\u001b[39m():\n\u001b[1;32m     12\u001b[0m     \u001b[39m# TODO: think about it\u001b[39;00m\n\u001b[1;32m     13\u001b[0m     seqs, scans, wcs, was, wps \u001b[39m=\u001b[39m linearize(te\u001b[39m.\u001b[39mscan_id, te\u001b[39m.\u001b[39mscans, te\u001b[39m.\u001b[39mdet_id, te\u001b[39m.\u001b[39mdet_wc, te\u001b[39m.\u001b[39mdet_wa, te\u001b[39m.\u001b[39mdet_wp)\n\u001b[0;32m---> 14\u001b[0m     confs, offs \u001b[39m=\u001b[39m net\u001b[39m.\u001b[39;49mforward_all(te)\n\u001b[1;32m     15\u001b[0m     \u001b[39mreturn\u001b[39;00m seqs, scans, wcs, was, wps, confs, offs\n",
      "File \u001b[0;32m~/Documents/repositories/follow_the_drow/library/data_outrigger/detectors/drow_detector.py:150\u001b[0m, in \u001b[0;36mDrowDetector.forward_all\u001b[0;34m(self, va)\u001b[0m\n\u001b[1;32m    148\u001b[0m scans, odoms \u001b[39m=\u001b[39m va\u001b[39m.\u001b[39mget_scan(iseq, iscan, \u001b[39mself\u001b[39m\u001b[39m.\u001b[39mN_TIME)\n\u001b[1;32m    149\u001b[0m cut \u001b[39m=\u001b[39m cutout(scans, odoms, \u001b[39mlen\u001b[39m(va\u001b[39m.\u001b[39mscans[iseq][iscan]), nsamp\u001b[39m=\u001b[39m\u001b[39mself\u001b[39m\u001b[39m.\u001b[39mN_SAMP)\n\u001b[0;32m--> 150\u001b[0m confs, votes \u001b[39m=\u001b[39m \u001b[39mself\u001b[39;49m\u001b[39m.\u001b[39;49mforward_one(cut)\n\u001b[1;32m    151\u001b[0m all_confs\u001b[39m.\u001b[39mappend(confs)\n\u001b[1;32m    152\u001b[0m all_votes\u001b[39m.\u001b[39mappend(votes)\n",
      "File \u001b[0;32m~/Documents/repositories/follow_the_drow/library/data_outrigger/detectors/drow_detector.py:140\u001b[0m, in \u001b[0;36mDrowDetector.forward_one\u001b[0;34m(self, xb)\u001b[0m\n\u001b[1;32m    138\u001b[0m \u001b[39mself\u001b[39m\u001b[39m.\u001b[39meval()\n\u001b[1;32m    139\u001b[0m \u001b[39mwith\u001b[39;00m no_grad():\n\u001b[0;32m--> 140\u001b[0m     logits, votes \u001b[39m=\u001b[39m \u001b[39mself\u001b[39;49m(Variable(move(from_numpy(xb), \u001b[39mself\u001b[39;49m\u001b[39m.\u001b[39;49mGPU)))\n\u001b[1;32m    141\u001b[0m     \u001b[39mreturn\u001b[39;00m softmax(logits, dim\u001b[39m=\u001b[39m\u001b[39m-\u001b[39m\u001b[39m1\u001b[39m)\u001b[39m.\u001b[39mdata\u001b[39m.\u001b[39mcpu()\u001b[39m.\u001b[39mnumpy(), votes\u001b[39m.\u001b[39mdata\u001b[39m.\u001b[39mcpu()\u001b[39m.\u001b[39mnumpy()\n",
      "File \u001b[0;32m~/Documents/repositories/follow_the_drow/venv/lib/python3.10/site-packages/torch/nn/modules/module.py:1501\u001b[0m, in \u001b[0;36mModule._call_impl\u001b[0;34m(self, *args, **kwargs)\u001b[0m\n\u001b[1;32m   1496\u001b[0m \u001b[39m# If we don't have any hooks, we want to skip the rest of the logic in\u001b[39;00m\n\u001b[1;32m   1497\u001b[0m \u001b[39m# this function, and just call forward.\u001b[39;00m\n\u001b[1;32m   1498\u001b[0m \u001b[39mif\u001b[39;00m \u001b[39mnot\u001b[39;00m (\u001b[39mself\u001b[39m\u001b[39m.\u001b[39m_backward_hooks \u001b[39mor\u001b[39;00m \u001b[39mself\u001b[39m\u001b[39m.\u001b[39m_backward_pre_hooks \u001b[39mor\u001b[39;00m \u001b[39mself\u001b[39m\u001b[39m.\u001b[39m_forward_hooks \u001b[39mor\u001b[39;00m \u001b[39mself\u001b[39m\u001b[39m.\u001b[39m_forward_pre_hooks\n\u001b[1;32m   1499\u001b[0m         \u001b[39mor\u001b[39;00m _global_backward_pre_hooks \u001b[39mor\u001b[39;00m _global_backward_hooks\n\u001b[1;32m   1500\u001b[0m         \u001b[39mor\u001b[39;00m _global_forward_hooks \u001b[39mor\u001b[39;00m _global_forward_pre_hooks):\n\u001b[0;32m-> 1501\u001b[0m     \u001b[39mreturn\u001b[39;00m forward_call(\u001b[39m*\u001b[39;49margs, \u001b[39m*\u001b[39;49m\u001b[39m*\u001b[39;49mkwargs)\n\u001b[1;32m   1502\u001b[0m \u001b[39m# Do not call functions when jit is used\u001b[39;00m\n\u001b[1;32m   1503\u001b[0m full_backward_hooks, non_full_backward_hooks \u001b[39m=\u001b[39m [], []\n",
      "File \u001b[0;32m~/Documents/repositories/follow_the_drow/library/data_outrigger/detectors/drow_detector.py:83\u001b[0m, in \u001b[0;36mDrowDetector.forward\u001b[0;34m(self, x)\u001b[0m\n\u001b[1;32m     80\u001b[0m x \u001b[39m=\u001b[39m x\u001b[39m.\u001b[39mview(B\u001b[39m*\u001b[39mT, \u001b[39m1\u001b[39m, \u001b[39m*\u001b[39mR)\n\u001b[1;32m     82\u001b[0m x \u001b[39m=\u001b[39m leaky_relu(\u001b[39mself\u001b[39m\u001b[39m.\u001b[39mbn1a(\u001b[39mself\u001b[39m\u001b[39m.\u001b[39mconv1a(x)), \u001b[39m0.1\u001b[39m)\n\u001b[0;32m---> 83\u001b[0m x \u001b[39m=\u001b[39m leaky_relu(\u001b[39mself\u001b[39m\u001b[39m.\u001b[39mbn1b(\u001b[39mself\u001b[39;49m\u001b[39m.\u001b[39;49mconv1b(x)), \u001b[39m0.1\u001b[39m)\n\u001b[1;32m     84\u001b[0m x \u001b[39m=\u001b[39m leaky_relu(\u001b[39mself\u001b[39m\u001b[39m.\u001b[39mbn1c(\u001b[39mself\u001b[39m\u001b[39m.\u001b[39mconv1c(x)), \u001b[39m0.1\u001b[39m)\n\u001b[1;32m     85\u001b[0m x \u001b[39m=\u001b[39m max_pool1d(x, \u001b[39m2\u001b[39m)  \u001b[39m# 24\u001b[39;00m\n",
      "File \u001b[0;32m~/Documents/repositories/follow_the_drow/venv/lib/python3.10/site-packages/torch/nn/modules/module.py:1501\u001b[0m, in \u001b[0;36mModule._call_impl\u001b[0;34m(self, *args, **kwargs)\u001b[0m\n\u001b[1;32m   1496\u001b[0m \u001b[39m# If we don't have any hooks, we want to skip the rest of the logic in\u001b[39;00m\n\u001b[1;32m   1497\u001b[0m \u001b[39m# this function, and just call forward.\u001b[39;00m\n\u001b[1;32m   1498\u001b[0m \u001b[39mif\u001b[39;00m \u001b[39mnot\u001b[39;00m (\u001b[39mself\u001b[39m\u001b[39m.\u001b[39m_backward_hooks \u001b[39mor\u001b[39;00m \u001b[39mself\u001b[39m\u001b[39m.\u001b[39m_backward_pre_hooks \u001b[39mor\u001b[39;00m \u001b[39mself\u001b[39m\u001b[39m.\u001b[39m_forward_hooks \u001b[39mor\u001b[39;00m \u001b[39mself\u001b[39m\u001b[39m.\u001b[39m_forward_pre_hooks\n\u001b[1;32m   1499\u001b[0m         \u001b[39mor\u001b[39;00m _global_backward_pre_hooks \u001b[39mor\u001b[39;00m _global_backward_hooks\n\u001b[1;32m   1500\u001b[0m         \u001b[39mor\u001b[39;00m _global_forward_hooks \u001b[39mor\u001b[39;00m _global_forward_pre_hooks):\n\u001b[0;32m-> 1501\u001b[0m     \u001b[39mreturn\u001b[39;00m forward_call(\u001b[39m*\u001b[39;49margs, \u001b[39m*\u001b[39;49m\u001b[39m*\u001b[39;49mkwargs)\n\u001b[1;32m   1502\u001b[0m \u001b[39m# Do not call functions when jit is used\u001b[39;00m\n\u001b[1;32m   1503\u001b[0m full_backward_hooks, non_full_backward_hooks \u001b[39m=\u001b[39m [], []\n",
      "File \u001b[0;32m~/Documents/repositories/follow_the_drow/venv/lib/python3.10/site-packages/torch/nn/modules/conv.py:313\u001b[0m, in \u001b[0;36mConv1d.forward\u001b[0;34m(self, input)\u001b[0m\n\u001b[1;32m    312\u001b[0m \u001b[39mdef\u001b[39;00m \u001b[39mforward\u001b[39m(\u001b[39mself\u001b[39m, \u001b[39minput\u001b[39m: Tensor) \u001b[39m-\u001b[39m\u001b[39m>\u001b[39m Tensor:\n\u001b[0;32m--> 313\u001b[0m     \u001b[39mreturn\u001b[39;00m \u001b[39mself\u001b[39;49m\u001b[39m.\u001b[39;49m_conv_forward(\u001b[39minput\u001b[39;49m, \u001b[39mself\u001b[39;49m\u001b[39m.\u001b[39;49mweight, \u001b[39mself\u001b[39;49m\u001b[39m.\u001b[39;49mbias)\n",
      "File \u001b[0;32m~/Documents/repositories/follow_the_drow/venv/lib/python3.10/site-packages/torch/nn/modules/conv.py:309\u001b[0m, in \u001b[0;36mConv1d._conv_forward\u001b[0;34m(self, input, weight, bias)\u001b[0m\n\u001b[1;32m    305\u001b[0m \u001b[39mif\u001b[39;00m \u001b[39mself\u001b[39m\u001b[39m.\u001b[39mpadding_mode \u001b[39m!=\u001b[39m \u001b[39m'\u001b[39m\u001b[39mzeros\u001b[39m\u001b[39m'\u001b[39m:\n\u001b[1;32m    306\u001b[0m     \u001b[39mreturn\u001b[39;00m F\u001b[39m.\u001b[39mconv1d(F\u001b[39m.\u001b[39mpad(\u001b[39minput\u001b[39m, \u001b[39mself\u001b[39m\u001b[39m.\u001b[39m_reversed_padding_repeated_twice, mode\u001b[39m=\u001b[39m\u001b[39mself\u001b[39m\u001b[39m.\u001b[39mpadding_mode),\n\u001b[1;32m    307\u001b[0m                     weight, bias, \u001b[39mself\u001b[39m\u001b[39m.\u001b[39mstride,\n\u001b[1;32m    308\u001b[0m                     _single(\u001b[39m0\u001b[39m), \u001b[39mself\u001b[39m\u001b[39m.\u001b[39mdilation, \u001b[39mself\u001b[39m\u001b[39m.\u001b[39mgroups)\n\u001b[0;32m--> 309\u001b[0m \u001b[39mreturn\u001b[39;00m F\u001b[39m.\u001b[39;49mconv1d(\u001b[39minput\u001b[39;49m, weight, bias, \u001b[39mself\u001b[39;49m\u001b[39m.\u001b[39;49mstride,\n\u001b[1;32m    310\u001b[0m                 \u001b[39mself\u001b[39;49m\u001b[39m.\u001b[39;49mpadding, \u001b[39mself\u001b[39;49m\u001b[39m.\u001b[39;49mdilation, \u001b[39mself\u001b[39;49m\u001b[39m.\u001b[39;49mgroups)\n",
      "\u001b[0;31mKeyboardInterrupt\u001b[0m: "
     ]
    }
   ],
   "source": [
    "with file_cache_function(\"test_data_raw.pkl\", process_test_set) as (args, recalc):\n",
    "    with file_cache_function(\"test_data_normal.pkl\", create_results, *args[1:], result_conf, force=recalc) as (results, _):\n",
    "        fig, _ = plot_prec_rec(*results, title=\"DROW (TEST)\")\n",
    "        plt.close(fig)\n",
    "\n",
    "fig"
   ]
  },
  {
   "cell_type": "markdown",
   "metadata": {},
   "source": [
    "### Smaller evaluation radius (Figure 4, dotted line)"
   ]
  },
  {
   "cell_type": "code",
   "execution_count": null,
   "metadata": {
    "ExecuteTime": {
     "end_time": "2018-03-15T20:42:47.260875Z",
     "start_time": "2018-03-15T20:42:29.968409Z"
    }
   },
   "outputs": [],
   "source": [
    "with file_cache_function(\"test_data_raw.pkl\", process_test_set) as (args, recalc):\n",
    "    conf = {**result_conf, \"eval_r\": 0.3}\n",
    "    with file_cache_function(\"test_data_small.pkl\", create_results, *args[1:], conf, force=recalc) as (results, _):\n",
    "        fig, _ = plot_prec_rec(*results, title=\"DROW small (TEST)\")\n",
    "        plt.close(fig)\n",
    "\n",
    "fig"
   ]
  }
 ],
 "metadata": {
  "kernelspec": {
   "display_name": "Python 3",
   "language": "python",
   "name": "python3"
  },
  "language_info": {
   "codemirror_mode": {
    "name": "ipython",
    "version": 3
   },
   "file_extension": ".py",
   "mimetype": "text/x-python",
   "name": "python",
   "nbconvert_exporter": "python",
   "pygments_lexer": "ipython3",
   "version": "3.10.6"
  }
 },
 "nbformat": 4,
 "nbformat_minor": 2
}
